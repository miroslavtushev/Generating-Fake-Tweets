{
 "cells": [
  {
   "cell_type": "markdown",
   "metadata": {},
   "source": [
    "# Generating Fake Tweets"
   ]
  },
  {
   "cell_type": "markdown",
   "metadata": {},
   "source": [
    "This notebook describes an end-to-end NLP project where I generate fake tweets based on an existing dataset.\n",
    "\n",
    "For this project I picked a massive dump of Trump's tweets as the dataset is free and availabe [here](https://www.thetrumparchive.com/faq).\n",
    "\n",
    "**Our objective is to generate believable fake tweets.**\n",
    "\n",
    "Two models are used in this notebook: Markov Chains and LSTM. These models are trained and empirically evaluated. Markov Chain was able to generate simple, but predictable tweets. Two NN architectures of LSTM were tested. The results showed that both architectures generate better fake tweets than Markov Chains."
   ]
  },
  {
   "cell_type": "markdown",
   "metadata": {},
   "source": [
    "## Data Preparation"
   ]
  },
  {
   "cell_type": "code",
   "execution_count": 1,
   "metadata": {},
   "outputs": [],
   "source": [
    "import pandas as pd\n",
    "import numpy as np"
   ]
  },
  {
   "cell_type": "code",
   "execution_count": 2,
   "metadata": {},
   "outputs": [
    {
     "data": {
      "text/html": [
       "<div>\n",
       "<style scoped>\n",
       "    .dataframe tbody tr th:only-of-type {\n",
       "        vertical-align: middle;\n",
       "    }\n",
       "\n",
       "    .dataframe tbody tr th {\n",
       "        vertical-align: top;\n",
       "    }\n",
       "\n",
       "    .dataframe thead th {\n",
       "        text-align: right;\n",
       "    }\n",
       "</style>\n",
       "<table border=\"1\" class=\"dataframe\">\n",
       "  <thead>\n",
       "    <tr style=\"text-align: right;\">\n",
       "      <th></th>\n",
       "      <th>text</th>\n",
       "      <th>isRetweet</th>\n",
       "      <th>isDeleted</th>\n",
       "      <th>device</th>\n",
       "      <th>favorites</th>\n",
       "      <th>retweets</th>\n",
       "      <th>date</th>\n",
       "      <th>isFlagged</th>\n",
       "    </tr>\n",
       "    <tr>\n",
       "      <th>id</th>\n",
       "      <th></th>\n",
       "      <th></th>\n",
       "      <th></th>\n",
       "      <th></th>\n",
       "      <th></th>\n",
       "      <th></th>\n",
       "      <th></th>\n",
       "      <th></th>\n",
       "    </tr>\n",
       "  </thead>\n",
       "  <tbody>\n",
       "    <tr>\n",
       "      <th>1205186844276727809</th>\n",
       "      <td>RT @RepAndyBiggsAZ: This President has done a ...</td>\n",
       "      <td>t</td>\n",
       "      <td>f</td>\n",
       "      <td>Twitter for iPhone</td>\n",
       "      <td>0</td>\n",
       "      <td>9291</td>\n",
       "      <td>2019-12-12 18:05:09</td>\n",
       "      <td>f</td>\n",
       "    </tr>\n",
       "    <tr>\n",
       "      <th>903778130850131970</th>\n",
       "      <td>On behalf of @FLOTUS Melania &amp;amp, myself, THA...</td>\n",
       "      <td>f</td>\n",
       "      <td>f</td>\n",
       "      <td>Twitter for iPhone</td>\n",
       "      <td>53160</td>\n",
       "      <td>10516</td>\n",
       "      <td>2017-09-02 00:34:32</td>\n",
       "      <td>f</td>\n",
       "    </tr>\n",
       "    <tr>\n",
       "      <th>349858983609249793</th>\n",
       "      <td>\"\"\"@cloverc8: @realDonaldTrump that's because ...</td>\n",
       "      <td>f</td>\n",
       "      <td>f</td>\n",
       "      <td>Twitter for Android</td>\n",
       "      <td>8</td>\n",
       "      <td>11</td>\n",
       "      <td>2013-06-26 11:57:36</td>\n",
       "      <td>f</td>\n",
       "    </tr>\n",
       "    <tr>\n",
       "      <th>1190000118398963713</th>\n",
       "      <td>RT @RepMeuser: Today’s vote on the impeachment...</td>\n",
       "      <td>t</td>\n",
       "      <td>f</td>\n",
       "      <td>Twitter for iPhone</td>\n",
       "      <td>0</td>\n",
       "      <td>8010</td>\n",
       "      <td>2019-10-31 20:18:32</td>\n",
       "      <td>f</td>\n",
       "    </tr>\n",
       "    <tr>\n",
       "      <th>1295067207618244610</th>\n",
       "      <td>Thank you James! https://t.co/cKiKlAXHqI</td>\n",
       "      <td>f</td>\n",
       "      <td>f</td>\n",
       "      <td>Twitter for iPhone</td>\n",
       "      <td>104805</td>\n",
       "      <td>15667</td>\n",
       "      <td>2020-08-16 18:37:38</td>\n",
       "      <td>f</td>\n",
       "    </tr>\n",
       "  </tbody>\n",
       "</table>\n",
       "</div>"
      ],
      "text/plain": [
       "                                                                  text  \\\n",
       "id                                                                       \n",
       "1205186844276727809  RT @RepAndyBiggsAZ: This President has done a ...   \n",
       "903778130850131970   On behalf of @FLOTUS Melania &amp, myself, THA...   \n",
       "349858983609249793   \"\"\"@cloverc8: @realDonaldTrump that's because ...   \n",
       "1190000118398963713  RT @RepMeuser: Today’s vote on the impeachment...   \n",
       "1295067207618244610           Thank you James! https://t.co/cKiKlAXHqI   \n",
       "\n",
       "                    isRetweet isDeleted               device  favorites  \\\n",
       "id                                                                        \n",
       "1205186844276727809         t         f   Twitter for iPhone          0   \n",
       "903778130850131970          f         f   Twitter for iPhone      53160   \n",
       "349858983609249793          f         f  Twitter for Android          8   \n",
       "1190000118398963713         t         f   Twitter for iPhone          0   \n",
       "1295067207618244610         f         f   Twitter for iPhone     104805   \n",
       "\n",
       "                     retweets                date isFlagged  \n",
       "id                                                           \n",
       "1205186844276727809      9291 2019-12-12 18:05:09         f  \n",
       "903778130850131970      10516 2017-09-02 00:34:32         f  \n",
       "349858983609249793         11 2013-06-26 11:57:36         f  \n",
       "1190000118398963713      8010 2019-10-31 20:18:32         f  \n",
       "1295067207618244610     15667 2020-08-16 18:37:38         f  "
      ]
     },
     "execution_count": 2,
     "metadata": {},
     "output_type": "execute_result"
    }
   ],
   "source": [
    "data = pd.read_csv(\"tweets_01-08-2021.csv\", index_col=\"id\", parse_dates=['date'])\n",
    "data.sample(5)"
   ]
  },
  {
   "cell_type": "code",
   "execution_count": 4,
   "metadata": {},
   "outputs": [
    {
     "data": {
      "text/plain": [
       "(56571, 8)"
      ]
     },
     "execution_count": 4,
     "metadata": {},
     "output_type": "execute_result"
    }
   ],
   "source": [
    "data.shape"
   ]
  },
  {
   "cell_type": "markdown",
   "metadata": {},
   "source": [
    "For text generation to be useful, we need to preserve the original words' forms. Thereforem stemming or lemmatization is not needed here. Punctuation might also be useful, so each symbol will be treated as a separate token.\n",
    "\n",
    "It is a good idea though to remove hyperlinks and convert the dataset to lowercase."
   ]
  },
  {
   "cell_type": "code",
   "execution_count": 5,
   "metadata": {},
   "outputs": [],
   "source": [
    "from nltk.tokenize import RegexpTokenizer\n",
    "import re\n",
    "\n",
    "text = data.text.to_list()\n",
    "processed_tweets = []\n",
    "tokenizer = RegexpTokenizer('\\w+|\\S+')\n",
    "for tweet in text:\n",
    "    tweet = re.sub('(https?:[\\w\\/\\.\\d]+)|…|(^RT)|“|”|\"', \"\", tweet)\n",
    "    tweet = re.sub(\"&amp;?\", \"and\", tweet)\n",
    "    processed_tweets.append(tokenizer.tokenize(tweet.lower()))\n",
    "        "
   ]
  },
  {
   "cell_type": "code",
   "execution_count": 6,
   "metadata": {},
   "outputs": [
    {
     "data": {
      "text/plain": [
       "['getting', 'a', 'little', 'exercise', 'this', 'morning', '!']"
      ]
     },
     "execution_count": 6,
     "metadata": {},
     "output_type": "execute_result"
    }
   ],
   "source": [
    "processed_tweets[6]"
   ]
  },
  {
   "cell_type": "code",
   "execution_count": 7,
   "metadata": {},
   "outputs": [
    {
     "data": {
      "image/png": "[encoded data removed]",
      "text/plain": [
       "<Figure size 432x288 with 1 Axes>"
      ]
     },
     "metadata": {
      "needs_background": "light"
     },
     "output_type": "display_data"
    }
   ],
   "source": [
    "import seaborn as sns\n",
    "import matplotlib.pyplot as plt\n",
    "\n",
    "sns.histplot([len(tweet) for tweet in processed_tweets], bins=15)\n",
    "plt.xlabel(\"Tweet length\")\n",
    "plt.show()"
   ]
  },
  {
   "cell_type": "markdown",
   "metadata": {},
   "source": [
    "Most of the tweets tend to be of the length 20."
   ]
  },
  {
   "cell_type": "markdown",
   "metadata": {},
   "source": [
    "## Markov Chains: Attempt 1\n",
    "\n",
    "I coded the algorithm from scratch using the [following resource](https://www.kdnuggets.com/2019/11/markov-chains-train-text-generation.html) as a guide. To get a more detailed information on how it works, please refer to my [Medium](https://miroslavtushev.medium.com/generating-fake-trump-tweets-using-markov-chains-d75d9a2eed08) article."
   ]
  },
  {
   "cell_type": "code",
   "execution_count": 8,
   "metadata": {},
   "outputs": [],
   "source": [
    "# chains of 2 words\n",
    "k = 2\n",
    "# list to hold those chains\n",
    "sets_of_k_words = []\n",
    "\n",
    "# create chains with k-length\n",
    "for tweet in processed_tweets:\n",
    "    sets_of_k_words.append([' '.join(tweet[i:i+k]) for i, _ in enumerate(tweet[:-k+1])])\n",
    "\n",
    "from scipy.sparse import dok_matrix\n",
    "# how many unique chains are there?\n",
    "distinct_sets_of_k_words = list(set([chain for s in sets_of_k_words for chain in s]))\n",
    "# how many unique words are there?\n",
    "distinct_words = list(set([elem for l in processed_tweets for elem in l]))\n",
    "# sparse matrix: rows - k-length sequence, columns - all possible words in tweets\n",
    "next_after_k_words_matrix = dok_matrix((len(distinct_sets_of_k_words), len(distinct_words)), dtype=np.uint16)\n",
    "\n",
    "# to look up the index of a chain (row) for the matrix\n",
    "k_words_idx_dict = {word: i for i, word in enumerate(distinct_sets_of_k_words)}\n",
    "# to look up the index of a word (column) for the matrix\n",
    "word_idx_dict = {word: i for i, word in enumerate(distinct_words)}\n",
    "\n",
    "# for each sequence go over all tweets and find the next word\n",
    "# increment the count for that word\n",
    "for i, set_of_k_words in enumerate(sets_of_k_words):\n",
    "    for j, k_word in enumerate(set_of_k_words[:-k+1]):\n",
    "        # index for a row (chain)\n",
    "        word_sequence_idx = k_words_idx_dict[k_word]\n",
    "        # get the index for next w\n",
    "        next_word_idx = word_idx_dict[processed_tweets[i][j+k]]\n",
    "        next_after_k_words_matrix[word_sequence_idx, next_word_idx] +=1"
   ]
  },
  {
   "cell_type": "markdown",
   "metadata": {},
   "source": [
    "A simple Markov Chain text generator is completely deterministic in nature. That is, there is not randomness component and the transition to the next state happens according to the highest probability."
   ]
  },
  {
   "cell_type": "code",
   "execution_count": 31,
   "metadata": {},
   "outputs": [],
   "source": [
    "# simple case with 0 alpha and fixed length\n",
    "\n",
    "from scipy.sparse import csr_matrix\n",
    "from numpy.random import choice\n",
    "\n",
    "def sample_next_word_after_sequence(word_sequence, alpha = 0):\n",
    "    next_word_vector = next_after_k_words_matrix[k_words_idx_dict[word_sequence]] + alpha\n",
    "    likelihoods = csr_matrix(next_word_vector)/next_word_vector.sum()\n",
    "    weights = likelihoods.toarray().flatten()\n",
    "    # if no words possible - terminate\n",
    "    if weights.sum() == 0.0:\n",
    "        return \"\"\n",
    "    return choice(distinct_words, p=weights)\n",
    "    \n",
    "def stochastic_chain(seed, chain_length=10, seed_length=k):\n",
    "    current_words = seed.split(' ')\n",
    "    if len(current_words) != seed_length:\n",
    "        raise ValueError(f'wrong number of words, expected {seed_length}')\n",
    "    sentence = seed\n",
    "\n",
    "    for _ in range(chain_length):\n",
    "        sentence += ' '\n",
    "        next_word = sample_next_word_after_sequence(' '.join(current_words))\n",
    "        if next_word == \"\":\n",
    "            return sentence\n",
    "        sentence += next_word\n",
    "        current_words = current_words[1:]+[next_word]\n",
    "    return sentence"
   ]
  },
  {
   "cell_type": "code",
   "execution_count": 32,
   "metadata": {},
   "outputs": [
    {
     "name": "stdout",
     "output_type": "stream",
     "text": [
      "the shit out . borders big problem for which the corrupt new york , doug ! thanks\n",
      "teamwork and coordination at all times . achievement is not a group\n",
      "@utennjock: @realdonaldtrump please run . what do\n"
     ]
    }
   ],
   "source": [
    "print(stochastic_chain(choice(distinct_sets_of_k_words), chain_length=15))\n",
    "print(stochastic_chain(choice(distinct_sets_of_k_words), chain_length=10))\n",
    "print(stochastic_chain(choice(distinct_sets_of_k_words), chain_length=5))"
   ]
  },
  {
   "cell_type": "markdown",
   "metadata": {},
   "source": [
    "**Problems:**\n",
    "- The current implementation is deterministic, so there is very little variety in tweets, and common patterns are often appear.\n",
    "- Periods are not taken into account, so the tweets end abruptly."
   ]
  },
  {
   "cell_type": "markdown",
   "metadata": {},
   "source": [
    "# Markov Chains: Attempt 2\n",
    "\n",
    "Here we are going to address the above-mentioned problems by (a) introducing randomness in the selection of the next state, and (b) adding tweet termination based on the probability of the current length. \n",
    "\n",
    "Let's start with the latter. To correctly terminate a generated tweet that looks believable, we are going to generate a CDF of each length probability. Then, when generating a new tweet token by tokn if we encounter a punctuation symbol like *.?!*, we are going to sample the CDF with the probability of terminating the tweet based on the current length."
   ]
  },
  {
   "cell_type": "code",
   "execution_count": 11,
   "metadata": {},
   "outputs": [
    {
     "name": "stdout",
     "output_type": "stream",
     "text": [
      "100\n"
     ]
    },
    {
     "data": {
      "image/png": "[encoded data removed]",
      "text/plain": [
       "<Figure size 432x288 with 1 Axes>"
      ]
     },
     "metadata": {
      "needs_background": "light"
     },
     "output_type": "display_data"
    }
   ],
   "source": [
    "# generating CDF\n",
    "import matplotlib.pyplot as plt\n",
    "\n",
    "lens = np.sort([len(tweet) for tweet in processed_tweets])\n",
    "print(lens[-1])\n",
    "\n",
    "def gen_prob(val, lens=lens):\n",
    "    for i, elem in enumerate(lens):\n",
    "        if elem >= val:\n",
    "            return i / len(lens)\n",
    "    return 1.00\n",
    " \n",
    "fig, ax = plt.subplots()\n",
    "ax.plot(np.cumsum(lens) / np.cumsum(lens)[-1])\n",
    "ax.set_title(\"CDF for tweet length\")\n",
    "ax.set_xlim(0, len(lens))\n",
    "ax.set_ylim(0, 1)\n",
    "plt.show()"
   ]
  },
  {
   "cell_type": "markdown",
   "metadata": {},
   "source": [
    "To address the lack of randomness problem, we introduced the new parameter **alpha**. Alpha represents a small probabilty that a new state transition happens completely randomly, by picking a new state among all states, instead of the ones with the highest probability. By increasing alpha we can generate truly bizarre tweets."
   ]
  },
  {
   "cell_type": "code",
   "execution_count": 12,
   "metadata": {},
   "outputs": [],
   "source": [
    "from numpy.random import random\n",
    "from nltk.tokenize import sent_tokenize\n",
    "\n",
    "def sample_next_word_after_sequence(word_sequence, alpha = 0):\n",
    "    # generate a random word by chance\n",
    "    if random() <= alpha:\n",
    "        return distinct_words[choice(len(distinct_words)-1)]\n",
    "    next_word_vector = next_after_k_words_matrix[k_words_idx_dict[word_sequence]]\n",
    "    likelihoods = csr_matrix(next_word_vector)/next_word_vector.sum()\n",
    "    weights = likelihoods.toarray().flatten()\n",
    "    if weights.sum() == 0.0:\n",
    "        return \"\"\n",
    "    return choice(distinct_words, p=weights)\n",
    "\n",
    "def stochastic_chain(seed, alpha=0):\n",
    "    # if only 1 word provided\n",
    "    if len(seed.split(' ')) != k:\n",
    "        # complete the chain\n",
    "        possible_words = [s for s in distinct_sets_of_k_words if s.startswith(seed)]\n",
    "        seed = choice(possible_words)           \n",
    "    current_words = seed.split(' ')  \n",
    "    sentence = seed\n",
    "\n",
    "    while(1):\n",
    "        sentence += ' '\n",
    "        next_word = sample_next_word_after_sequence(' '.join(current_words), alpha)\n",
    "        if next_word == \"\":\n",
    "            return postprocess(sentence)\n",
    "        elif next_word in list(\".!?\"):\n",
    "            sentence += next_word\n",
    "            if random() <= gen_prob(len(sentence.split())):\n",
    "                return postprocess(sentence)\n",
    "        else:\n",
    "            sentence += next_word\n",
    "        current_words = current_words[1:]+[next_word]\n",
    "        \n",
    "def postprocess(sent):\n",
    "    final = []\n",
    "    for s in sent_tokenize(sent):\n",
    "        final.append(re.sub(r\" ([.?!])$\", r\"\\1\", s).capitalize())\n",
    "    return \" \".join(final)"
   ]
  },
  {
   "cell_type": "code",
   "execution_count": 13,
   "metadata": {},
   "outputs": [
    {
     "name": "stdout",
     "output_type": "stream",
     "text": [
      "Twitter vicious censorship still hitting on me. Remember and vote republican.\n",
      "Democrats if they 're coming armed with the most elite property true luxury.\n",
      "Obamacare throughout the year @brandenroderick returns to the senate democrats have never had such leadership in space. Plans can change the rules and regulations.\n"
     ]
    }
   ],
   "source": [
    "print(stochastic_chain('twitter', alpha=0.001))\n",
    "print(stochastic_chain('democrats', alpha=0.001))\n",
    "print(stochastic_chain('obama', alpha=0.001))"
   ]
  },
  {
   "cell_type": "markdown",
   "metadata": {},
   "source": [
    "**Observations:**\n",
    "- Increasing the chain length (attempt 1) leads to more coherent sentences. However, it limits the number of possible states and requires a much larger dataset.\n",
    "- Adding randomness (alpha) and termination probability further improves the quality of generated tweets. However, the interpretability of the generated tweets is often low as Markov Chains does not provide a mechanism for conveying meaning."
   ]
  },
  {
   "cell_type": "markdown",
   "metadata": {},
   "source": [
    "# LSTM\n",
    "\n",
    "To overcome the limitations of Markov Chains, especially the lack of meaning, we are going to build a simple NN model using LSTM. As NNs can represent arbitrarily complex relationships, my expectation is that the performance is going to be much better compared to simple probabilistic models like Markov Chains. The complete theory behind LSTM can be found in my [Medium](https://miroslavtushev.medium.com/generating-fake-trump-tweets-with-lstm-7c5979229e81) article.\n",
    "\n",
    "The core idea behind LSTM is the following: ***given a sequence of n words, what is the most likely word to follow?***\n",
    "\n",
    "To realize that idea, we are going to generate sequences of tokens and their corresponding labels. We first generate unique ids for each token, and then iterate over our tweets to generate all possible sequences of ids starting from the beginning of a tweet. The labels are simply the last word in a sequence."
   ]
  },
  {
   "cell_type": "code",
   "execution_count": 14,
   "metadata": {
    "scrolled": true
   },
   "outputs": [],
   "source": [
    "# generating sequences\n",
    "from tensorflow.keras.preprocessing.text import Tokenizer\n",
    "\n",
    "# keeping punctuation\n",
    "tok = Tokenizer(filters=\"\")\n",
    "tok.fit_on_texts(processed_tweets)\n",
    "\n",
    "sequences = []\n",
    "\n",
    "for seq in processed_tweets:\n",
    "    tokenized = tok.texts_to_sequences([seq])[0]\n",
    "    for i in range(2, len(tokenized)+1):\n",
    "        sequences.append(tokenized[:i])\n",
    "        \n",
    "total_words = len(tok.word_index) + 1\n",
    "\n",
    "labels = []\n",
    "for sequence in sequences:\n",
    "    labels.append(sequence.pop(-1))\n",
    "\n",
    "labels = np.array(labels)#.reshape(-1, 1)"
   ]
  },
  {
   "cell_type": "code",
   "execution_count": 15,
   "metadata": {},
   "outputs": [
    {
     "name": "stdout",
     "output_type": "stream",
     "text": [
      "[2, 6343, 1065, 10, 1018, 794, 9, 7, 438, 1385, 5, 25, 2418, 3, 6, 2, 92, 140, 16, 1, 541, 36, 1272, 1386, 872] 27\n"
     ]
    }
   ],
   "source": [
    "print(sequences[100], labels[100])"
   ]
  },
  {
   "cell_type": "markdown",
   "metadata": {},
   "source": [
    "Given the sequence above, the most likely token to follow is 27. \n",
    "\n",
    "To standardize the lengths of the sequences, the shorter onces (<100) will be padded with zeroes. Other strategies exist like dropping the long ones to save space and computation time."
   ]
  },
  {
   "cell_type": "code",
   "execution_count": 16,
   "metadata": {},
   "outputs": [],
   "source": [
    "from tensorflow.keras.preprocessing.sequence import pad_sequences\n",
    "X = np.array(pad_sequences(\n",
    "    sequences, padding=\"post\"\n",
    "))"
   ]
  },
  {
   "cell_type": "markdown",
   "metadata": {},
   "source": [
    "## Model 1\n",
    "The first model is composed of the following layers:\n",
    "1. **Embedding layer.** Take a sequence and output an embedding of the shape (99, 256). Each token is represented by a vector of 256 numerical values.\n",
    "2. **LSTM layer.** Take a 3d tensor of the shape (4096, 99, 256), with dropout 0.3.\n",
    "3. **Dense layer.** Output a prediction (probability) of the next word."
   ]
  },
  {
   "cell_type": "code",
   "execution_count": 17,
   "metadata": {},
   "outputs": [],
   "source": [
    "from tensorflow import keras\n",
    "from tensorflow.keras import layers\n",
    "\n",
    "batch_size = 4096\n",
    "\n",
    "model1 = keras.Sequential([\n",
    "    layers.Embedding(input_dim=total_words, output_dim=256, mask_zero=True),\n",
    "    layers.LSTM(units=256, dropout=0.3, stateful=False),\n",
    "    layers.Dense(total_words, activation='softmax')\n",
    "])\n",
    "\n",
    "model1.compile(loss='sparse_categorical_crossentropy', optimizer='adam')"
   ]
  },
  {
   "cell_type": "code",
   "execution_count": 18,
   "metadata": {},
   "outputs": [
    {
     "name": "stdout",
     "output_type": "stream",
     "text": [
      "Epoch 1/30\n",
      "291/291 [==============================] - 97s 293ms/step - loss: 8.1393\n",
      "\n",
      "Epoch 00001: saving model to checkpoints\\model1.ckpt\n",
      "Epoch 2/30\n",
      "291/291 [==============================] - 86s 295ms/step - loss: 7.0362\n",
      "\n",
      "Epoch 00002: saving model to checkpoints\\model1.ckpt\n",
      "Epoch 3/30\n",
      "291/291 [==============================] - 89s 306ms/step - loss: 6.8504\n",
      "\n",
      "Epoch 00003: saving model to checkpoints\\model1.ckpt\n",
      "Epoch 4/30\n",
      "291/291 [==============================] - 89s 306ms/step - loss: 6.6731\n",
      "\n",
      "Epoch 00004: saving model to checkpoints\\model1.ckpt\n",
      "Epoch 5/30\n",
      "291/291 [==============================] - 89s 306ms/step - loss: 6.4333\n",
      "\n",
      "Epoch 00005: saving model to checkpoints\\model1.ckpt\n",
      "Epoch 6/30\n",
      "291/291 [==============================] - 88s 302ms/step - loss: 6.1923\n",
      "\n",
      "Epoch 00006: saving model to checkpoints\\model1.ckpt\n",
      "Epoch 7/30\n",
      "291/291 [==============================] - 89s 305ms/step - loss: 5.9695\n",
      "\n",
      "Epoch 00007: saving model to checkpoints\\model1.ckpt\n",
      "Epoch 8/30\n",
      "291/291 [==============================] - 90s 309ms/step - loss: 5.7934\n",
      "\n",
      "Epoch 00008: saving model to checkpoints\\model1.ckpt\n",
      "Epoch 9/30\n",
      "291/291 [==============================] - 92s 317ms/step - loss: 5.6318\n",
      "\n",
      "Epoch 00009: saving model to checkpoints\\model1.ckpt\n",
      "Epoch 10/30\n",
      "291/291 [==============================] - 96s 331ms/step - loss: 5.4857\n",
      "\n",
      "Epoch 00010: saving model to checkpoints\\model1.ckpt\n",
      "Epoch 11/30\n",
      "291/291 [==============================] - 96s 330ms/step - loss: 5.3612\n",
      "\n",
      "Epoch 00011: saving model to checkpoints\\model1.ckpt\n",
      "Epoch 12/30\n",
      "291/291 [==============================] - 94s 324ms/step - loss: 5.2388\n",
      "\n",
      "Epoch 00012: saving model to checkpoints\\model1.ckpt\n",
      "Epoch 13/30\n",
      "291/291 [==============================] - 90s 310ms/step - loss: 5.1263\n",
      "\n",
      "Epoch 00013: saving model to checkpoints\\model1.ckpt\n",
      "Epoch 14/30\n",
      "291/291 [==============================] - 87s 298ms/step - loss: 5.0307\n",
      "\n",
      "Epoch 00014: saving model to checkpoints\\model1.ckpt\n",
      "Epoch 15/30\n",
      "291/291 [==============================] - 86s 294ms/step - loss: 4.9214\n",
      "\n",
      "Epoch 00015: saving model to checkpoints\\model1.ckpt\n",
      "Epoch 16/30\n",
      "291/291 [==============================] - 86s 295ms/step - loss: 4.8416\n",
      "\n",
      "Epoch 00016: saving model to checkpoints\\model1.ckpt\n",
      "Epoch 17/30\n",
      "291/291 [==============================] - 86s 294ms/step - loss: 4.7574\n",
      "\n",
      "Epoch 00017: saving model to checkpoints\\model1.ckpt\n",
      "Epoch 18/30\n",
      "291/291 [==============================] - 86s 297ms/step - loss: 4.6804\n",
      "\n",
      "Epoch 00018: saving model to checkpoints\\model1.ckpt\n",
      "Epoch 19/30\n",
      "291/291 [==============================] - 87s 299ms/step - loss: 4.6024\n",
      "\n",
      "Epoch 00019: saving model to checkpoints\\model1.ckpt\n",
      "Epoch 20/30\n",
      "291/291 [==============================] - 86s 294ms/step - loss: 4.5342\n",
      "\n",
      "Epoch 00020: saving model to checkpoints\\model1.ckpt\n",
      "Epoch 21/30\n",
      "291/291 [==============================] - 85s 293ms/step - loss: 4.4628\n",
      "\n",
      "Epoch 00021: saving model to checkpoints\\model1.ckpt\n",
      "Epoch 22/30\n",
      "291/291 [==============================] - 86s 297ms/step - loss: 4.4015\n",
      "\n",
      "Epoch 00022: saving model to checkpoints\\model1.ckpt\n",
      "Epoch 23/30\n",
      "291/291 [==============================] - 87s 297ms/step - loss: 4.3375\n",
      "\n",
      "Epoch 00023: saving model to checkpoints\\model1.ckpt\n",
      "Epoch 24/30\n",
      "291/291 [==============================] - 86s 297ms/step - loss: 4.2832\n",
      "\n",
      "Epoch 00024: saving model to checkpoints\\model1.ckpt\n",
      "Epoch 25/30\n",
      "291/291 [==============================] - 85s 294ms/step - loss: 4.2222\n",
      "\n",
      "Epoch 00025: saving model to checkpoints\\model1.ckpt\n",
      "Epoch 26/30\n",
      "291/291 [==============================] - 86s 294ms/step - loss: 4.1728\n",
      "\n",
      "Epoch 00026: saving model to checkpoints\\model1.ckpt\n",
      "Epoch 27/30\n",
      "291/291 [==============================] - 86s 294ms/step - loss: 4.1224\n",
      "\n",
      "Epoch 00027: saving model to checkpoints\\model1.ckpt\n",
      "Epoch 28/30\n",
      "291/291 [==============================] - 86s 297ms/step - loss: 4.0758\n",
      "\n",
      "Epoch 00028: saving model to checkpoints\\model1.ckpt\n",
      "Epoch 29/30\n",
      "291/291 [==============================] - 85s 291ms/step - loss: 4.0317\n",
      "\n",
      "Epoch 00029: saving model to checkpoints\\model1.ckpt\n",
      "Epoch 30/30\n",
      "291/291 [==============================] - 84s 288ms/step - loss: 3.9876\n",
      "\n",
      "Epoch 00030: saving model to checkpoints\\model1.ckpt\n"
     ]
    },
    {
     "data": {
      "text/plain": [
       "<tensorflow.python.keras.callbacks.History at 0x169cf34bfa0>"
      ]
     },
     "execution_count": 18,
     "metadata": {},
     "output_type": "execute_result"
    }
   ],
   "source": [
    "import tensorflow as tf\n",
    "\n",
    "cp_callback = tf.keras.callbacks.ModelCheckpoint(filepath=\"checkpoints\\\\model1.ckpt\",\n",
    "                                                 save_weights_only=True,\n",
    "                                                 verbose=1)\n",
    "model1.fit(X, labels, \n",
    "          epochs=30, \n",
    "          batch_size=batch_size, \n",
    "          verbose=True, \n",
    "          use_multiprocessing=True, \n",
    "          workers=8,\n",
    "          callbacks=[cp_callback])"
   ]
  },
  {
   "cell_type": "markdown",
   "metadata": {},
   "source": [
    "To make predictions, we create a reverse-lookup dictionary ids and tokens. We select a seed to start with and then continuously predict subsequent tokens based on the required length"
   ]
  },
  {
   "cell_type": "code",
   "execution_count": 23,
   "metadata": {},
   "outputs": [],
   "source": [
    "id_to_word = {v:k for k,v in tok.word_index.items()}\n",
    "\n",
    "def predict_sequence(seed, length, model):\n",
    "    # how much to pad\n",
    "    max_len = len(X[0])\n",
    "    # final prediction sequence\n",
    "    output = seed + \" \"\n",
    "    # keep predicting until reach the length\n",
    "    for i in range(length): \n",
    "        # tokenize\n",
    "        tokenized = tok.texts_to_sequences([output])[0]\n",
    "        # pad\n",
    "        x = np.array(pad_sequences([tokenized], padding=\"post\", maxlen=max_len))\n",
    "        # predict based on current sequence\n",
    "        prediction = np.argmax(model.predict(x, verbose=False), axis=-1)\n",
    "        # update sequence\n",
    "        output = output + id_to_word[prediction[0]] + \" \"\n",
    "        if id_to_word[prediction[0]] in list(\".!?\"):\n",
    "            if random() <= gen_prob(len(output.split())):\n",
    "                return postprocess(output)\n",
    "    return postprocess(output)"
   ]
  },
  {
   "cell_type": "code",
   "execution_count": 29,
   "metadata": {},
   "outputs": [
    {
     "name": "stdout",
     "output_type": "stream",
     "text": [
      "Twitter is a very good story. The fake news media is not a very bad for the people of the united states. They are not a very good and , and , the fake news media is now doing.\n",
      "Democrats are trying to be a wall and , the wall , and the wall is not a very good for our country.\n",
      "Obama 's debt is a disaster for the u .s. Senate. He is a great guy. He is a great guy.\n",
      "Biden is a very big mistake in the united states. We are going to win the united states. We will win! #maga #kag #maga #kag #kag #kag agenda is the best!\n",
      "Republicans are doing a great job for the people of the united states.\n"
     ]
    }
   ],
   "source": [
    "print(predict_sequence('twitter', 100, model1))\n",
    "print(predict_sequence('democrats', 100, model1))\n",
    "print(predict_sequence('obama', 100, model1))\n",
    "print(predict_sequence('biden', 100, model1))\n",
    "print(predict_sequence('republicans', 100, model1))"
   ]
  },
  {
   "cell_type": "markdown",
   "metadata": {},
   "source": [
    "## Model 2\n",
    "The second model adds an additional LSTM layer without droput."
   ]
  },
  {
   "cell_type": "code",
   "execution_count": 26,
   "metadata": {
    "scrolled": true
   },
   "outputs": [
    {
     "name": "stdout",
     "output_type": "stream",
     "text": [
      "Epoch 1/20\n",
      "1162/1162 [==============================] - 190s 157ms/step - loss: 7.5284\n",
      "\n",
      "Epoch 00001: saving model to checkpoints2\\model2.ckpt\n",
      "Epoch 2/20\n",
      "1162/1162 [==============================] - 192s 165ms/step - loss: 6.8265\n",
      "\n",
      "Epoch 00002: saving model to checkpoints2\\model2.ckpt\n",
      "Epoch 3/20\n",
      "1162/1162 [==============================] - 190s 163ms/step - loss: 6.0302\n",
      "\n",
      "Epoch 00003: saving model to checkpoints2\\model2.ckpt\n",
      "Epoch 4/20\n",
      "1162/1162 [==============================] - 189s 163ms/step - loss: 5.4678\n",
      "\n",
      "Epoch 00004: saving model to checkpoints2\\model2.ckpt\n",
      "Epoch 5/20\n",
      "1162/1162 [==============================] - 191s 164ms/step - loss: 5.0896\n",
      "\n",
      "Epoch 00005: saving model to checkpoints2\\model2.ckpt\n",
      "Epoch 6/20\n",
      "1162/1162 [==============================] - 184s 159ms/step - loss: 4.7873\n",
      "\n",
      "Epoch 00006: saving model to checkpoints2\\model2.ckpt\n",
      "Epoch 7/20\n",
      "1162/1162 [==============================] - 188s 162ms/step - loss: 4.5443\n",
      "\n",
      "Epoch 00007: saving model to checkpoints2\\model2.ckpt\n",
      "Epoch 8/20\n",
      "1162/1162 [==============================] - 192s 165ms/step - loss: 4.3060\n",
      "\n",
      "Epoch 00008: saving model to checkpoints2\\model2.ckpt\n",
      "Epoch 9/20\n",
      "1162/1162 [==============================] - 186s 160ms/step - loss: 4.1018\n",
      "\n",
      "Epoch 00009: saving model to checkpoints2\\model2.ckpt\n",
      "Epoch 10/20\n",
      "1162/1162 [==============================] - 183s 158ms/step - loss: 3.9103\n",
      "\n",
      "Epoch 00010: saving model to checkpoints2\\model2.ckpt\n",
      "Epoch 11/20\n",
      "1162/1162 [==============================] - 182s 157ms/step - loss: 3.7366\n",
      "\n",
      "Epoch 00011: saving model to checkpoints2\\model2.ckpt\n",
      "Epoch 12/20\n",
      "1162/1162 [==============================] - 204s 175ms/step - loss: 3.5792\n",
      "\n",
      "Epoch 00012: saving model to checkpoints2\\model2.ckpt\n",
      "Epoch 13/20\n",
      "1162/1162 [==============================] - 188s 161ms/step - loss: 3.4449\n",
      "\n",
      "Epoch 00013: saving model to checkpoints2\\model2.ckpt\n",
      "Epoch 14/20\n",
      "1162/1162 [==============================] - 187s 161ms/step - loss: 3.3173\n",
      "\n",
      "Epoch 00014: saving model to checkpoints2\\model2.ckpt\n",
      "Epoch 15/20\n",
      "1162/1162 [==============================] - 188s 162ms/step - loss: 3.1987\n",
      "\n",
      "Epoch 00015: saving model to checkpoints2\\model2.ckpt\n",
      "Epoch 16/20\n",
      "1162/1162 [==============================] - 182s 157ms/step - loss: 3.0922\n",
      "\n",
      "Epoch 00016: saving model to checkpoints2\\model2.ckpt\n",
      "Epoch 17/20\n",
      "1162/1162 [==============================] - 185s 159ms/step - loss: 2.9919\n",
      "\n",
      "Epoch 00017: saving model to checkpoints2\\model2.ckpt\n",
      "Epoch 18/20\n",
      "1162/1162 [==============================] - 186s 160ms/step - loss: 2.8939\n",
      "\n",
      "Epoch 00018: saving model to checkpoints2\\model2.ckpt\n",
      "Epoch 19/20\n",
      "1162/1162 [==============================] - 186s 160ms/step - loss: 2.8113\n",
      "\n",
      "Epoch 00019: saving model to checkpoints2\\model2.ckpt\n",
      "Epoch 20/20\n",
      "1162/1162 [==============================] - 183s 158ms/step - loss: 2.7195\n",
      "\n",
      "Epoch 00020: saving model to checkpoints2\\model2.ckpt\n"
     ]
    },
    {
     "data": {
      "text/plain": [
       "<tensorflow.python.keras.callbacks.History at 0x16c01588610>"
      ]
     },
     "execution_count": 26,
     "metadata": {},
     "output_type": "execute_result"
    }
   ],
   "source": [
    "# model 2\n",
    "from tensorflow import keras\n",
    "from tensorflow.keras import layers\n",
    "\n",
    "batch_size = 1024\n",
    "\n",
    "model2 = keras.Sequential([\n",
    "    layers.Embedding(input_dim=total_words, output_dim=256, mask_zero=True),\n",
    "    layers.LSTM(units=256, return_sequences=True),\n",
    "    layers.LSTM(units=256),\n",
    "    layers.Dense(total_words, activation='softmax')\n",
    "])\n",
    "\n",
    "model2.compile(loss='sparse_categorical_crossentropy', optimizer='adam')\n",
    "\n",
    "cp_callback = tf.keras.callbacks.ModelCheckpoint(filepath=\"checkpoints2/model2.ckpt\",\n",
    "                                                 save_weights_only=True,\n",
    "                                                 verbose=1)\n",
    "\n",
    "model2.fit(X, labels, \n",
    "          epochs=20, \n",
    "          batch_size=batch_size, \n",
    "          verbose=True, \n",
    "          use_multiprocessing=True, \n",
    "          workers=8,\n",
    "          callbacks=[cp_callback],\n",
    "          shuffle=True)"
   ]
  },
  {
   "cell_type": "code",
   "execution_count": 28,
   "metadata": {},
   "outputs": [
    {
     "name": "stdout",
     "output_type": "stream",
     "text": [
      "Twitter is going to be able to render the economy in the history of our country. It is a big setback for growth.\n",
      "Democrats are now doing everything possible to make a deal with the dems. They are trying to steal the election.\n",
      "Obama is spending a job on the economy. He is a true champion and has been a true winner of character. He is a true champion and supporter!\n",
      "Biden is a corrupt politician who has been a complete and total disaster , and he is now doing nothing to do with the radical left democrats in congress.\n",
      "Republicans should get a new (repeal and , concise. It is time to get tough and smart! The dems have gone crazy.\n"
     ]
    }
   ],
   "source": [
    "print(predict_sequence('twitter', 100, model2))\n",
    "print(predict_sequence('democrats', 100, model2))\n",
    "print(predict_sequence('obama', 100, model2))\n",
    "print(predict_sequence('biden', 100, model2))\n",
    "print(predict_sequence('republicans', 100, model2))"
   ]
  },
  {
   "cell_type": "markdown",
   "metadata": {},
   "source": [
    "***Observations:***\n",
    "- Model 2 was able to reach lower loss value measured by cross entropy compared to model 1, in less iterations.\n",
    "- The quality of the fake tweets does not seem to improve significantly, although Model 2 produces wordier tweets."
   ]
  },
  {
   "cell_type": "markdown",
   "metadata": {},
   "source": [
    "# Conclusions\n",
    "While Markov Chains provided a computationally easy way to generate fake tweets, the majority of them lack any coherent meaning. LSTM, on the other hand, was able to produce much better results. The fake tweets produced by LSTM are much more meaningful and believable. \n",
    "\n",
    "# Future Improvements\n",
    "- Garbage in — garbage out. 90% of success stems from good data. A more careful preprocessing can be done. For instance, you can try to remove hashtags since I found that predictions always go into a \"vicious circle\" of hashtags when the model doesn’t know what to predict. It will simply output a ton a unrelated hashtags, which obviously doesn’t have a lot of value. Another thing to try would be drop tweets with too low or too high length.\n",
    "- Model architecture. I was hoping to achieve better results with a deeper NN with less units, but apparently shallower, wider NN worked better for me. You can experiment with the # of layers, # of units, and dropout rate.\n",
    "- Replace Embedding layer with the actual word embeddings trained on your dataset, such as Glove or Word2vec."
   ]
  },
  {
   "cell_type": "code",
   "execution_count": null,
   "metadata": {},
   "outputs": [],
   "source": []
  }
 ],
 "metadata": {
  "kernelspec": {
   "display_name": "Python 3",
   "language": "python",
   "name": "python3"
  },
  "language_info": {
   "codemirror_mode": {
    "name": "ipython",
    "version": 3
   },
   "file_extension": ".py",
   "mimetype": "text/x-python",
   "name": "python",
   "nbconvert_exporter": "python",
   "pygments_lexer": "ipython3",
   "version": "3.8.3"
  }
 },
 "nbformat": 4,
 "nbformat_minor": 4
}
